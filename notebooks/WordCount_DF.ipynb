{
 "cells": [
  {
   "cell_type": "code",
   "execution_count": 54,
   "metadata": {},
   "outputs": [],
   "source": [
    "from pyspark import SparkConf\n",
    "from pyspark.sql import SparkSession, functions as f"
   ]
  },
  {
   "cell_type": "code",
   "execution_count": 55,
   "metadata": {},
   "outputs": [],
   "source": [
    "spark = SparkSession.builder \\\n",
    ".master(\"local\") \\\n",
    ".appName(\"wordCount\") \\\n",
    ".config(\"spark.some.config.option\", \"WordCount_DF\") \\\n",
    ".getOrCreate()"
   ]
  },
  {
   "cell_type": "code",
   "execution_count": 56,
   "metadata": {},
   "outputs": [
    {
     "name": "stdout",
     "output_type": "stream",
     "text": [
      "+-------------+-----+\n",
      "|         word|count|\n",
      "+-------------+-----+\n",
      "|         data|  354|\n",
      "|          big|  279|\n",
      "|           in|  169|\n",
      "|     training|  111|\n",
      "|       course|  104|\n",
      "|       hadoop|   96|\n",
      "|       online|   58|\n",
      "|      courses|   53|\n",
      "|        spark|   42|\n",
      "|    bangalore|   38|\n",
      "|    analytics|   35|\n",
      "|    hyderabad|   33|\n",
      "|          for|   30|\n",
      "|         best|   29|\n",
      "|           of|   27|\n",
      "|certification|   26|\n",
      "|          and|   22|\n",
      "|         with|   21|\n",
      "|           to|   21|\n",
      "|      chennai|   20|\n",
      "+-------------+-----+\n",
      "only showing top 20 rows\n",
      "\n"
     ]
    }
   ],
   "source": [
    "df1 = spark.read \\\n",
    ".format(\"csv\") \\\n",
    ".option(\"inferSchema\",True) \\\n",
    ".option(\"path\", \"D:\\\\BigData\\\\Week9- Apache Spark\\\\search_data.txt\") \\\n",
    ".load()\n",
    "\n",
    "df2 = df1.withColumn('word', f.explode(f.split(f.col('_c0'), ' ')))\\\n",
    "    .groupBy('word')\\\n",
    "    .count()\\\n",
    "    .sort('count', ascending=False)\n",
    "\n",
    "df2.show()"
   ]
  },
  {
   "cell_type": "code",
   "execution_count": null,
   "metadata": {},
   "outputs": [],
   "source": []
  },
  {
   "cell_type": "code",
   "execution_count": null,
   "metadata": {},
   "outputs": [],
   "source": []
  }
 ],
 "metadata": {
  "kernelspec": {
   "display_name": "Python 3",
   "language": "python",
   "name": "python3"
  },
  "language_info": {
   "codemirror_mode": {
    "name": "ipython",
    "version": 3
   },
   "file_extension": ".py",
   "mimetype": "text/x-python",
   "name": "python",
   "nbconvert_exporter": "python",
   "pygments_lexer": "ipython3",
   "version": "3.8.3"
  }
 },
 "nbformat": 4,
 "nbformat_minor": 4
}
