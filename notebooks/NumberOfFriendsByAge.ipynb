{
 "cells": [
  {
   "cell_type": "code",
   "execution_count": 1,
   "metadata": {},
   "outputs": [],
   "source": [
    "from pyspark import SparkConf, SparkContext\n",
    "conf = SparkConf().setMaster(\"local\").setAppName(\"NumberOfFriendsByAge\")\n",
    "sc = SparkContext.getOrCreate(conf=conf)"
   ]
  },
  {
   "cell_type": "code",
   "execution_count": 2,
   "metadata": {},
   "outputs": [],
   "source": [
    "def parseline(line):\n",
    "    fields = line.split(\"::\")\n",
    "    age = int(fields[2])\n",
    "    numfriends = int(fields[3])\n",
    "    return (age, numfriends)\n"
   ]
  },
  {
   "cell_type": "code",
   "execution_count": 3,
   "metadata": {},
   "outputs": [
    {
     "name": "stdout",
     "output_type": "stream",
     "text": [
      "[(33, 325), (26, 242), (55, 295), (40, 250), (68, 269), (59, 220), (37, 249), (54, 278), (38, 193), (27, 228), (53, 222), (57, 258), (56, 306), (43, 230), (36, 246), (22, 206), (35, 211), (45, 309), (60, 202), (67, 214), (19, 213), (30, 235), (51, 302), (25, 197), (21, 350), (42, 303), (49, 184), (48, 281), (50, 254), (39, 169), (32, 207), (58, 116), (64, 281), (31, 267), (52, 340), (24, 233), (20, 165), (62, 220), (41, 268), (44, 282), (69, 235), (65, 298), (61, 256), (28, 209), (66, 276), (46, 223), (29, 215), (18, 343), (47, 233), (34, 245), (63, 384), (23, 246)]\n"
     ]
    }
   ],
   "source": [
    "rdd1 = sc.textFile(\"D:\\\\BigData\\\\Week9- Apache Spark\\\\friendsdata.csv\")\n",
    "rdd2 = rdd1.map(parseline)\n",
    "mappedInput = rdd2.mapValues(lambda x:(x,1)).reduceByKey(lambda x,y: (x[0] + y[0], x[1] + y[1]))\n",
    "result = mappedInput.mapValues(lambda x: int((x[0]/x[1])))\n",
    "print(result.collect())"
   ]
  },
  {
   "cell_type": "code",
   "execution_count": null,
   "metadata": {},
   "outputs": [],
   "source": []
  }
 ],
 "metadata": {
  "kernelspec": {
   "display_name": "Python 3",
   "language": "python",
   "name": "python3"
  },
  "language_info": {
   "codemirror_mode": {
    "name": "ipython",
    "version": 3
   },
   "file_extension": ".py",
   "mimetype": "text/x-python",
   "name": "python",
   "nbconvert_exporter": "python",
   "pygments_lexer": "ipython3",
   "version": "3.8.3"
  }
 },
 "nbformat": 4,
 "nbformat_minor": 4
}
