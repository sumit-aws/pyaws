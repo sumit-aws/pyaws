{
 "cells": [
  {
   "cell_type": "code",
   "execution_count": 7,
   "metadata": {},
   "outputs": [],
   "source": [
    "from pyspark.sql import SparkSession, functions as fn\n",
    "from pyspark.sql.types import *\n",
    "from pyspark.sql.functions import avg, sum, min, max, mean, count, expr"
   ]
  },
  {
   "cell_type": "code",
   "execution_count": 8,
   "metadata": {},
   "outputs": [],
   "source": [
    "spark = SparkSession.builder \\\n",
    ".master(\"local\") \\\n",
    ".appName(\"aggregate_df2\") \\\n",
    ".getOrCreate()"
   ]
  },
  {
   "cell_type": "code",
   "execution_count": 9,
   "metadata": {},
   "outputs": [],
   "source": [
    "df1 = spark.read \\\n",
    ".format(\"csv\") \\\n",
    ".option(\"header\", True) \\\n",
    ".option(\"inferSChema\", True) \\\n",
    ".option(\"path\", \"D:\\\\BigData\\\\Week12- Apache Spark - Structured API Part-2\\\\order_data.csv\") \\\n",
    ".load()"
   ]
  },
  {
   "cell_type": "code",
   "execution_count": 12,
   "metadata": {},
   "outputs": [
    {
     "name": "stdout",
     "output_type": "stream",
     "text": [
      "+--------------+---------+-------------+------------------+\n",
      "|       Country|InvoiceNo|TotalQuantity|     invoiceValues|\n",
      "+--------------+---------+-------------+------------------+\n",
      "|United Kingdom|   536446|          329|            440.89|\n",
      "|United Kingdom|   536508|          216|            155.52|\n",
      "|United Kingdom|   537811|           74|            268.86|\n",
      "|United Kingdom|   538895|          370|            247.38|\n",
      "|United Kingdom|   540453|          341|302.44999999999993|\n",
      "+--------------+---------+-------------+------------------+\n",
      "only showing top 5 rows\n",
      "\n"
     ]
    }
   ],
   "source": [
    "# column object expression\n",
    "df1.groupBy(\"Country\", \"InvoiceNo\") \\\n",
    ".agg(sum(\"Quantity\").alias(\"TotalQuantity\"),\n",
    "    sum(expr(\"Quantity * UnitPrice\")).alias(\"invoiceValues\")).show(5)"
   ]
  },
  {
   "cell_type": "code",
   "execution_count": 17,
   "metadata": {},
   "outputs": [
    {
     "name": "stdout",
     "output_type": "stream",
     "text": [
      "+--------------+---------+-------------+------------------+\n",
      "|       Country|InvoiceNo|TotalQuantity|     invoiceValues|\n",
      "+--------------+---------+-------------+------------------+\n",
      "|United Kingdom|   536446|          329|            440.89|\n",
      "|United Kingdom|   536508|          216|            155.52|\n",
      "|United Kingdom|   537811|           74|            268.86|\n",
      "|United Kingdom|   538895|          370|            247.38|\n",
      "|United Kingdom|   540453|          341|302.44999999999993|\n",
      "+--------------+---------+-------------+------------------+\n",
      "only showing top 5 rows\n",
      "\n"
     ]
    }
   ],
   "source": [
    "# column string expression\n",
    "df1.groupBy(\"Country\", \"InvoiceNo\") \\\n",
    ".agg(expr(\"sum(Quantity) as TotalQuantity\"),\n",
    "    expr(\"sum(Quantity * UnitPrice) as invoiceValues\")).show(5)"
   ]
  },
  {
   "cell_type": "code",
   "execution_count": 19,
   "metadata": {},
   "outputs": [
    {
     "name": "stdout",
     "output_type": "stream",
     "text": [
      "+-------------+------------------+\n",
      "|TotalQuantity|     invoiceValues|\n",
      "+-------------+------------------+\n",
      "|          329|            440.89|\n",
      "|          216|            155.52|\n",
      "|           74|            268.86|\n",
      "|          370|            247.38|\n",
      "|          341|302.44999999999993|\n",
      "+-------------+------------------+\n",
      "only showing top 5 rows\n",
      "\n"
     ]
    }
   ],
   "source": [
    "# spark sql\n",
    "df1.createOrReplaceTempView(\"orders\")\n",
    "spark.sql(\"select sum(Quantity) as TotalQuantity, sum(Quantity*UnitPrice) as invoiceValues from orders group By Country, InvoiceNo\").show(5)"
   ]
  },
  {
   "cell_type": "code",
   "execution_count": null,
   "metadata": {},
   "outputs": [],
   "source": []
  }
 ],
 "metadata": {
  "kernelspec": {
   "display_name": "Python 3",
   "language": "python",
   "name": "python3"
  },
  "language_info": {
   "codemirror_mode": {
    "name": "ipython",
    "version": 3
   },
   "file_extension": ".py",
   "mimetype": "text/x-python",
   "name": "python",
   "nbconvert_exporter": "python",
   "pygments_lexer": "ipython3",
   "version": "3.8.3"
  }
 },
 "nbformat": 4,
 "nbformat_minor": 4
}
