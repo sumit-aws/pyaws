{
 "cells": [
  {
   "cell_type": "code",
   "execution_count": 1,
   "metadata": {},
   "outputs": [],
   "source": [
    "from pyspark.sql import SparkSession\n",
    "from pyspark.sql.types import *\n",
    "from pyspark.sql.functions import *"
   ]
  },
  {
   "cell_type": "code",
   "execution_count": 2,
   "metadata": {},
   "outputs": [],
   "source": [
    "spark = SparkSession.builder \\\n",
    ".master(\"local\") \\\n",
    ".appName(\"join_on_multiple_columns_df\") \\\n",
    ".getOrCreate()"
   ]
  },
  {
   "cell_type": "code",
   "execution_count": 3,
   "metadata": {},
   "outputs": [],
   "source": [
    "emp_data = [(1,\"Smith\",-1,\"2018\",10,\"M\",3000),\n",
    "    (2,\"Rose\",1,\"2010\",20,\"M\",4000),\n",
    "    (3,\"Williams\",1,\"2010\",10,\"M\",1000),\n",
    "    (4,\"Jones\",2,\"2005\",10,\"F\",2000),\n",
    "    (5,\"Brown\",2,\"2010\",30,\"\",-1),\n",
    "    (6,\"Brown\",2,\"2010\",50,\"\",-1)\n",
    "      ]\n",
    "empColumns = (\"emp_id\",\"name\",\"superior_emp_id\",\"branch_id\",\"dept_id\",\"gender\",\"salary\")\n",
    "emp = spark.createDataFrame(data=emp_data, schema=empColumns)"
   ]
  },
  {
   "cell_type": "code",
   "execution_count": 4,
   "metadata": {},
   "outputs": [],
   "source": [
    "dept_data = [(\"Finance\",10,\"2018\"),\n",
    "    (\"Marketing\",20,\"2010\"),\n",
    "    (\"Marketing\",20,\"2018\"),\n",
    "    (\"Sales\",30,\"2005\"),\n",
    "    (\"Sales\",30,\"2010\"),\n",
    "    (\"IT\",50,\"2010\")\n",
    "            ]\n",
    "\n",
    "deptColumns = (\"dept_name\",\"dept_id\",\"branch_id\")\n",
    "dept = spark.createDataFrame(data=dept_data, schema=deptColumns)"
   ]
  },
  {
   "cell_type": "code",
   "execution_count": 13,
   "metadata": {},
   "outputs": [
    {
     "name": "stdout",
     "output_type": "stream",
     "text": [
      "+------+-----+---------------+---------+-------+------+------+---------+-------+---------+\n",
      "|emp_id| name|superior_emp_id|branch_id|dept_id|gender|salary|dept_name|dept_id|branch_id|\n",
      "+------+-----+---------------+---------+-------+------+------+---------+-------+---------+\n",
      "|     5|Brown|              2|     2010|     30|      |    -1|    Sales|     30|     2010|\n",
      "|     2| Rose|              1|     2010|     20|     M|  4000|Marketing|     20|     2010|\n",
      "|     6|Brown|              2|     2010|     50|      |    -1|       IT|     50|     2010|\n",
      "|     1|Smith|             -1|     2018|     10|     M|  3000|  Finance|     10|     2018|\n",
      "+------+-----+---------------+---------+-------+------+------+---------+-------+---------+\n",
      "\n"
     ]
    }
   ],
   "source": [
    "# Using multiple columns on join expression\n",
    "emp.join(dept,(emp.dept_id == dept.dept_id) & (emp.branch_id == dept.branch_id),\"inner\").show()"
   ]
  },
  {
   "cell_type": "code",
   "execution_count": 14,
   "metadata": {},
   "outputs": [
    {
     "name": "stdout",
     "output_type": "stream",
     "text": [
      "+------+-----+---------------+---------+-------+------+------+---------+-------+---------+\n",
      "|emp_id| name|superior_emp_id|branch_id|dept_id|gender|salary|dept_name|dept_id|branch_id|\n",
      "+------+-----+---------------+---------+-------+------+------+---------+-------+---------+\n",
      "|     5|Brown|              2|     2010|     30|      |    -1|    Sales|     30|     2010|\n",
      "|     2| Rose|              1|     2010|     20|     M|  4000|Marketing|     20|     2010|\n",
      "|     6|Brown|              2|     2010|     50|      |    -1|       IT|     50|     2010|\n",
      "|     1|Smith|             -1|     2018|     10|     M|  3000|  Finance|     10|     2018|\n",
      "+------+-----+---------------+---------+-------+------+------+---------+-------+---------+\n",
      "\n"
     ]
    }
   ],
   "source": [
    "emp.createOrReplaceTempView(\"employee\")\n",
    "dept.createOrReplaceTempView(\"department\")\n",
    "spark.sql(\"\"\"select e.*, d.* from employee e inner join department d on e.dept_id=d.dept_id\n",
    "and e.branch_id=d.branch_id\"\"\").show()"
   ]
  },
  {
   "cell_type": "code",
   "execution_count": null,
   "metadata": {},
   "outputs": [],
   "source": []
  }
 ],
 "metadata": {
  "kernelspec": {
   "display_name": "Python 3",
   "language": "python",
   "name": "python3"
  },
  "language_info": {
   "codemirror_mode": {
    "name": "ipython",
    "version": 3
   },
   "file_extension": ".py",
   "mimetype": "text/x-python",
   "name": "python",
   "nbconvert_exporter": "python",
   "pygments_lexer": "ipython3",
   "version": "3.8.3"
  }
 },
 "nbformat": 4,
 "nbformat_minor": 4
}
