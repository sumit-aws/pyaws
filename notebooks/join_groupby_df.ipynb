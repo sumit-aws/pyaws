{
 "cells": [
  {
   "cell_type": "code",
   "execution_count": 23,
   "metadata": {},
   "outputs": [],
   "source": [
    "from pyspark.sql import SparkSession\n",
    "from pyspark.sql.types import *\n",
    "from pyspark.sql.functions import *\n",
    "from os import walk"
   ]
  },
  {
   "cell_type": "code",
   "execution_count": 24,
   "metadata": {},
   "outputs": [],
   "source": [
    "spark = SparkSession.builder \\\n",
    ".master(\"local\") \\\n",
    ".appName(\"join_groupby_df\") \\\n",
    ".getOrCreate()"
   ]
  },
  {
   "cell_type": "code",
   "execution_count": 48,
   "metadata": {},
   "outputs": [],
   "source": [
    "empdf = spark.read \\\n",
    ".format(\"json\") \\\n",
    ".option(\"inferSchema\",True) \\\n",
    ".option(\"path\", \"D:\\BigData\\Week12- Apache Spark - Structured API Part-2\\employee.json\") \\\n",
    ".load()"
   ]
  },
  {
   "cell_type": "code",
   "execution_count": 49,
   "metadata": {},
   "outputs": [],
   "source": [
    "deptdf = spark.read \\\n",
    ".format(\"json\") \\\n",
    ".option(\"inferSchema\", True) \\\n",
    ".option(\"path\",\"D:\\BigData\\Week12- Apache Spark - Structured API Part-2\\dept.json\") \\\n",
    ".load()"
   ]
  },
  {
   "cell_type": "code",
   "execution_count": 88,
   "metadata": {},
   "outputs": [
    {
     "name": "stdout",
     "output_type": "stream",
     "text": [
      "+--------------------+----+-------+----+------+---------+------+\n",
      "|             address| age|empname|  id|salary| deptName|deptid|\n",
      "+--------------------+----+-------+----+------+---------+------+\n",
      "|[[Pune, Maharasht...|  25| satish|1201|  5000|       IT|    11|\n",
      "|[[Pune, Maharasht...|  28|krishna|1202|  6000|       HR|    21|\n",
      "|[[Pune, Maharasht...|  39|  amith|1203|  7000|Marketing|    31|\n",
      "|[[Pune, Maharasht...|  23| prudvi|1205|  9000|      Fin|    41|\n",
      "|[[Pune, Maharasht...|  23|  javed|1204|  8000|      Fin|    41|\n",
      "|                null|null|   null|null|  null|    Admin|    51|\n",
      "+--------------------+----+-------+----+------+---------+------+\n",
      "\n"
     ]
    }
   ],
   "source": [
    "df1 = empdf.join(deptdf, empdf.deptid==deptdf.deptid, \"right\")\n",
    "df2 = df1.drop(empdf.deptid)\n",
    "df2.show()"
   ]
  },
  {
   "cell_type": "code",
   "execution_count": 96,
   "metadata": {},
   "outputs": [
    {
     "name": "stdout",
     "output_type": "stream",
     "text": [
      "+------+--------+---------+\n",
      "|deptid|empcount| deptName|\n",
      "+------+--------+---------+\n",
      "|    31|       1|Marketing|\n",
      "|    51|       0|    Admin|\n",
      "|    41|       2|      Fin|\n",
      "|    11|       1|       IT|\n",
      "|    21|       1|       HR|\n",
      "+------+--------+---------+\n",
      "\n"
     ]
    }
   ],
   "source": [
    "df2.groupBy(\"deptid\") \\\n",
    ".agg(count(\"empname\").alias(\"empcount\"),first(\"deptName\").alias(\"deptName\")).show()"
   ]
  },
  {
   "cell_type": "code",
   "execution_count": 62,
   "metadata": {},
   "outputs": [],
   "source": [
    "empdf.createOrReplaceTempView(\"employee\")\n",
    "deptdf.createOrReplaceTempView(\"department\")"
   ]
  },
  {
   "cell_type": "code",
   "execution_count": 66,
   "metadata": {},
   "outputs": [
    {
     "name": "stdout",
     "output_type": "stream",
     "text": [
      "+---------+------+--------+\n",
      "| deptName|deptid|empcount|\n",
      "+---------+------+--------+\n",
      "|       HR|    21|       1|\n",
      "|    Admin|    51|       0|\n",
      "|Marketing|    31|       1|\n",
      "|       IT|    11|       1|\n",
      "|      Fin|    41|       2|\n",
      "+---------+------+--------+\n",
      "\n"
     ]
    }
   ],
   "source": [
    "spark.sql(\"\"\"select d.deptName, d.deptid, count(e.id) as empcount from \n",
    "employee e right join department d on e.deptid=d.deptid group by d.deptid, d.deptName\"\"\").show()"
   ]
  },
  {
   "cell_type": "code",
   "execution_count": null,
   "metadata": {},
   "outputs": [],
   "source": []
  }
 ],
 "metadata": {
  "kernelspec": {
   "display_name": "Python 3",
   "language": "python",
   "name": "python3"
  },
  "language_info": {
   "codemirror_mode": {
    "name": "ipython",
    "version": 3
   },
   "file_extension": ".py",
   "mimetype": "text/x-python",
   "name": "python",
   "nbconvert_exporter": "python",
   "pygments_lexer": "ipython3",
   "version": "3.8.3"
  }
 },
 "nbformat": 4,
 "nbformat_minor": 4
}
