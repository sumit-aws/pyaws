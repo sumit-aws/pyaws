{
 "cells": [
  {
   "cell_type": "code",
   "execution_count": 1,
   "metadata": {},
   "outputs": [],
   "source": [
    "from pyspark.sql import SparkSession\n",
    "from pyspark.sql.types import *\n",
    "from pyspark.sql.functions import *"
   ]
  },
  {
   "cell_type": "code",
   "execution_count": 2,
   "metadata": {},
   "outputs": [],
   "source": [
    "spark = SparkSession.builder \\\n",
    ".master(\"local\") \\\n",
    ".appName(\"self_join_df\") \\\n",
    ".getOrCreate()"
   ]
  },
  {
   "cell_type": "code",
   "execution_count": 10,
   "metadata": {},
   "outputs": [
    {
     "name": "stdout",
     "output_type": "stream",
     "text": [
      "+------+--------+---------------+-----------+------+\n",
      "|emp_id|    name|superior_emp_id|emp_dept_id|salary|\n",
      "+------+--------+---------------+-----------+------+\n",
      "|     1|   Smith|              1|         10|  3000|\n",
      "|     2|    Rose|              1|         20|  4000|\n",
      "|     3|Williams|              1|         10|  1000|\n",
      "|     4|   Jones|              2|         10|  2000|\n",
      "|     5|   Brown|              2|         40|    -1|\n",
      "|     6|   Brown|              2|         50|    -1|\n",
      "+------+--------+---------------+-----------+------+\n",
      "\n"
     ]
    }
   ],
   "source": [
    "data = [(1,\"Smith\",1,\"10\",3000),\n",
    "    (2,\"Rose\",1,\"20\",4000),\n",
    "    (3,\"Williams\",1,\"10\",1000),\n",
    "    (4,\"Jones\",2,\"10\",2000),\n",
    "    (5,\"Brown\",2,\"40\",-1),\n",
    "    (6,\"Brown\",2,\"50\",-1)\n",
    "       ]\n",
    "\n",
    "Columns = (\"emp_id\",\"name\",\"superior_emp_id\",\"emp_dept_id\",\"salary\")\n",
    "df1 = spark.createDataFrame(data=data, schema=Columns)\n",
    "df1.show()"
   ]
  },
  {
   "cell_type": "code",
   "execution_count": 15,
   "metadata": {},
   "outputs": [
    {
     "name": "stdout",
     "output_type": "stream",
     "text": [
      "+------+--------+---------------+-----------------+\n",
      "|emp_id|name    |superior_emp_id|superior_emp_name|\n",
      "+------+--------+---------------+-----------------+\n",
      "|1     |Smith   |1              |Smith            |\n",
      "|2     |Rose    |1              |Smith            |\n",
      "|3     |Williams|1              |Smith            |\n",
      "|4     |Jones   |2              |Rose             |\n",
      "|5     |Brown   |2              |Rose             |\n",
      "|6     |Brown   |2              |Rose             |\n",
      "+------+--------+---------------+-----------------+\n",
      "\n"
     ]
    }
   ],
   "source": [
    "df1.alias(\"emp1\").join(df1.alias(\"emp2\"), \\\n",
    "    col(\"emp1.superior_emp_id\") == col(\"emp2.emp_id\"),\"inner\") \\\n",
    "    .select(col(\"emp1.emp_id\"),col(\"emp1.name\"), \\\n",
    "      col(\"emp2.emp_id\").alias(\"superior_emp_id\"), \\\n",
    "      col(\"emp2.name\").alias(\"superior_emp_name\")) \\\n",
    "   .show(truncate=False)"
   ]
  },
  {
   "cell_type": "code",
   "execution_count": 16,
   "metadata": {},
   "outputs": [
    {
     "name": "stdout",
     "output_type": "stream",
     "text": [
      "+------+--------+---------------+-----------------+\n",
      "|emp_id|name    |superior_emp_id|superior_emp_name|\n",
      "+------+--------+---------------+-----------------+\n",
      "|1     |Smith   |1              |Smith            |\n",
      "|2     |Rose    |1              |Smith            |\n",
      "|3     |Williams|1              |Smith            |\n",
      "|4     |Jones   |2              |Rose             |\n",
      "|5     |Brown   |2              |Rose             |\n",
      "|6     |Brown   |2              |Rose             |\n",
      "+------+--------+---------------+-----------------+\n",
      "\n"
     ]
    }
   ],
   "source": [
    "# spark sql self join with where clause\n",
    "df1.alias(\"emp1\").join(df1.alias(\"emp2\")) \\\n",
    "    .where(col(\"emp1.superior_emp_id\") == col(\"emp2.emp_id\")) \\\n",
    "    .select(col(\"emp1.emp_id\"),col(\"emp1.name\"), \\\n",
    "      col(\"emp2.emp_id\").alias(\"superior_emp_id\"), \\\n",
    "      col(\"emp2.name\").alias(\"superior_emp_name\")) \\\n",
    "   .show(truncate=False)"
   ]
  },
  {
   "cell_type": "code",
   "execution_count": 17,
   "metadata": {},
   "outputs": [
    {
     "name": "stdout",
     "output_type": "stream",
     "text": [
      "+------+--------+---------------+-----------------+\n",
      "|emp_id|name    |superior_emp_id|superior_emp_name|\n",
      "+------+--------+---------------+-----------------+\n",
      "|1     |Smith   |1              |Smith            |\n",
      "|2     |Rose    |1              |Smith            |\n",
      "|3     |Williams|1              |Smith            |\n",
      "|4     |Jones   |2              |Rose             |\n",
      "|5     |Brown   |2              |Rose             |\n",
      "|6     |Brown   |2              |Rose             |\n",
      "+------+--------+---------------+-----------------+\n",
      "\n"
     ]
    }
   ],
   "source": [
    "# spark sql self join with filter clause\n",
    "df1.alias(\"emp1\").join(df1.alias(\"emp2\")) \\\n",
    "    .filter(col(\"emp1.superior_emp_id\") == col(\"emp2.emp_id\")) \\\n",
    "    .select(col(\"emp1.emp_id\"),col(\"emp1.name\"), \\\n",
    "      col(\"emp2.emp_id\").alias(\"superior_emp_id\"), \\\n",
    "      col(\"emp2.name\").alias(\"superior_emp_name\")) \\\n",
    "   .show(truncate=False)"
   ]
  },
  {
   "cell_type": "code",
   "execution_count": 18,
   "metadata": {},
   "outputs": [
    {
     "name": "stdout",
     "output_type": "stream",
     "text": [
      "+------+--------+----------+------------+\n",
      "|emp_id|    name|Manager_id|Manager_name|\n",
      "+------+--------+----------+------------+\n",
      "|     1|   Smith|         1|       Smith|\n",
      "|     2|    Rose|         1|       Smith|\n",
      "|     3|Williams|         1|       Smith|\n",
      "|     4|   Jones|         2|        Rose|\n",
      "|     5|   Brown|         2|        Rose|\n",
      "|     6|   Brown|         2|        Rose|\n",
      "+------+--------+----------+------------+\n",
      "\n"
     ]
    }
   ],
   "source": [
    "df1.createOrReplaceTempView(\"emp\")\n",
    "spark.sql(\"\"\"select e1.emp_id, e1.name, e2.emp_id as Manager_id, e2.name as Manager_name \n",
    "from emp e1 inner join emp e2 on e1.superior_emp_id = e2.emp_id\"\"\").show()"
   ]
  },
  {
   "cell_type": "code",
   "execution_count": null,
   "metadata": {},
   "outputs": [],
   "source": []
  }
 ],
 "metadata": {
  "kernelspec": {
   "display_name": "Python 3",
   "language": "python",
   "name": "python3"
  },
  "language_info": {
   "codemirror_mode": {
    "name": "ipython",
    "version": 3
   },
   "file_extension": ".py",
   "mimetype": "text/x-python",
   "name": "python",
   "nbconvert_exporter": "python",
   "pygments_lexer": "ipython3",
   "version": "3.8.3"
  }
 },
 "nbformat": 4,
 "nbformat_minor": 4
}
