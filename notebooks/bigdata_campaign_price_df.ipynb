{
 "cells": [
  {
   "cell_type": "code",
   "execution_count": 16,
   "metadata": {},
   "outputs": [],
   "source": [
    "from pyspark.sql import SparkSession, functions as fn\n",
    "from pyspark.sql.functions import sum,avg,max,min,mean,count"
   ]
  },
  {
   "cell_type": "code",
   "execution_count": 17,
   "metadata": {},
   "outputs": [],
   "source": [
    "spark = SparkSession.builder \\\n",
    ".master(\"local\") \\\n",
    ".appName(\"bigdata_campaign_price_df\") \\\n",
    ".getOrCreate()"
   ]
  },
  {
   "cell_type": "code",
   "execution_count": 18,
   "metadata": {},
   "outputs": [],
   "source": [
    "df1 = spark.read \\\n",
    ".format(\"csv\") \\\n",
    ".option(\"inferSchema\", True) \\\n",
    ".option(\"path\", \"D:\\\\BigData\\\\Week10- Apache Spark - In Depth\\\\bigdatacampaigndata.csv\") \\\n",
    ".load()"
   ]
  },
  {
   "cell_type": "code",
   "execution_count": 19,
   "metadata": {},
   "outputs": [
    {
     "name": "stdout",
     "output_type": "stream",
     "text": [
      "+--------------------+-----------+----+--------------------+--------------+---+---+----+---+-----+-----+----+----+----+------+\n",
      "|                 _c0|        _c1| _c2|                 _c3|           _c4|_c5|_c6| _c7|_c8|  _c9| _c10|_c11|_c12|_c13|  _c14|\n",
      "+--------------------+-----------+----+--------------------+--------------+---+---+----+---+-----+-----+----+----+----+------+\n",
      "|   big data contents|Broad match|None|TrendyTech Search...|Broad Match #3|  1|  1|100%|INR|24.06|24.06|   0|   0|  0%|Search|\n",
      "|spark training wi...|Broad match|None|TrendyTech Search...|Broad Match #3|  1|  2|200%|INR|29.97|59.94|   0|   0|  0%|Search|\n",
      "|online hadoop tra...|Broad match|None|TrendyTech Search...|Broad Match #3|  1|  1|100%|INR|28.45|28.45|   0|   0|  0%|Search|\n",
      "|coursera data ana...|Broad match|None|TrendyTech Search...|Broad Match #3|  1|  1|100%|INR|24.64|24.64|   0|   0|  0%|Search|\n",
      "|ameerpet big data...|Broad match|None|TrendyTech Search...|Broad Match #3|  2|  1| 50%|INR|34.86|34.86|   0|   0|  0%|Search|\n",
      "+--------------------+-----------+----+--------------------+--------------+---+---+----+---+-----+-----+----+----+----+------+\n",
      "only showing top 5 rows\n",
      "\n"
     ]
    }
   ],
   "source": [
    "df1.show(5)"
   ]
  },
  {
   "cell_type": "code",
   "execution_count": 35,
   "metadata": {},
   "outputs": [],
   "source": [
    "df2 = df1.withColumn('word', fn.explode(fn.split(fn.col('_c0'), ' ')))\\\n",
    "    .groupBy('word').agg(sum('_c10').alias(\"count\")).sort(\"count\",ascending=False)"
   ]
  },
  {
   "cell_type": "code",
   "execution_count": 37,
   "metadata": {},
   "outputs": [
    {
     "name": "stdout",
     "output_type": "stream",
     "text": [
      "+------+------------------+\n",
      "|  word|             count|\n",
      "+------+------------------+\n",
      "|  data|16394.640000000003|\n",
      "|   big| 12889.28000000001|\n",
      "|    in| 5774.839999999997|\n",
      "|hadoop| 4818.339999999999|\n",
      "|course|           4191.59|\n",
      "+------+------------------+\n",
      "only showing top 5 rows\n",
      "\n"
     ]
    }
   ],
   "source": [
    "df2.show(5)"
   ]
  },
  {
   "cell_type": "code",
   "execution_count": 38,
   "metadata": {},
   "outputs": [],
   "source": [
    "df3 = df1.withColumn('word', fn.explode(fn.split(fn.col('_c0'), ' ')))"
   ]
  },
  {
   "cell_type": "code",
   "execution_count": 40,
   "metadata": {},
   "outputs": [],
   "source": [
    "df3.createOrReplaceTempView(\"price\")"
   ]
  },
  {
   "cell_type": "code",
   "execution_count": 45,
   "metadata": {},
   "outputs": [],
   "source": [
    "df4 = spark.sql(\"select word, sum(_c10) as count from price group by word order by count desc\")"
   ]
  },
  {
   "cell_type": "code",
   "execution_count": 46,
   "metadata": {},
   "outputs": [
    {
     "name": "stdout",
     "output_type": "stream",
     "text": [
      "+------+------------------+\n",
      "|  word|             count|\n",
      "+------+------------------+\n",
      "|  data|16394.640000000003|\n",
      "|   big| 12889.28000000001|\n",
      "|    in| 5774.839999999997|\n",
      "|hadoop| 4818.339999999999|\n",
      "|course|           4191.59|\n",
      "+------+------------------+\n",
      "only showing top 5 rows\n",
      "\n"
     ]
    }
   ],
   "source": [
    "df4.show(5)"
   ]
  },
  {
   "cell_type": "code",
   "execution_count": null,
   "metadata": {},
   "outputs": [],
   "source": []
  }
 ],
 "metadata": {
  "kernelspec": {
   "display_name": "Python 3",
   "language": "python",
   "name": "python3"
  },
  "language_info": {
   "codemirror_mode": {
    "name": "ipython",
    "version": 3
   },
   "file_extension": ".py",
   "mimetype": "text/x-python",
   "name": "python",
   "nbconvert_exporter": "python",
   "pygments_lexer": "ipython3",
   "version": "3.8.3"
  }
 },
 "nbformat": 4,
 "nbformat_minor": 4
}
