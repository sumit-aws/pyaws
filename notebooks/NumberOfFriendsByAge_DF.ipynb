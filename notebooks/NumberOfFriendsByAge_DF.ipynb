{
 "cells": [
  {
   "cell_type": "code",
   "execution_count": 16,
   "metadata": {},
   "outputs": [],
   "source": [
    "from pyspark.sql import SparkSession, functions as fn\n",
    "from pyspark.sql.functions import sum,avg,max,min,mean,count"
   ]
  },
  {
   "cell_type": "code",
   "execution_count": 17,
   "metadata": {},
   "outputs": [],
   "source": [
    "spark = SparkSession.builder \\\n",
    ".master(\"local\") \\\n",
    ".appName(\"NumberOfFriendsByAge_DF\") \\\n",
    ".getOrCreate()\n"
   ]
  },
  {
   "cell_type": "code",
   "execution_count": 18,
   "metadata": {},
   "outputs": [
    {
     "data": {
      "text/plain": [
       "<bound method DataFrame.printSchema of DataFrame[_c0: int, _c1: string, _c2: int, _c3: int]>"
      ]
     },
     "execution_count": 18,
     "metadata": {},
     "output_type": "execute_result"
    }
   ],
   "source": [
    "df1 = spark.read \\\n",
    ".format(\"csv\") \\\n",
    ".option(\"delimiter\", \"::\") \\\n",
    ".option(\"inferSchema\", True) \\\n",
    ".option(\"path\", \"D:\\\\BigData\\\\Week9- Apache Spark\\\\friendsdata.csv\") \\\n",
    ".load()\n",
    "\n",
    "df1.printSchema"
   ]
  },
  {
   "cell_type": "code",
   "execution_count": 19,
   "metadata": {},
   "outputs": [],
   "source": [
    "df2 = df1.groupBy(\"_c2\") \\\n",
    ".agg(sum(\"_c3\").alias(\"count\"))"
   ]
  },
  {
   "cell_type": "code",
   "execution_count": 20,
   "metadata": {},
   "outputs": [
    {
     "name": "stdout",
     "output_type": "stream",
     "text": [
      "+---+-----+\n",
      "|_c2|count|\n",
      "+---+-----+\n",
      "| 31| 2138|\n",
      "| 65| 1491|\n",
      "| 53| 1560|\n",
      "| 34| 1473|\n",
      "| 28| 2091|\n",
      "| 26| 4115|\n",
      "| 27| 1825|\n",
      "| 44| 3386|\n",
      "| 22| 1445|\n",
      "| 47| 2099|\n",
      "| 52| 3747|\n",
      "| 40| 4264|\n",
      "| 20|  825|\n",
      "| 57| 3106|\n",
      "| 54| 3615|\n",
      "| 48| 2814|\n",
      "| 19| 2346|\n",
      "| 64| 3376|\n",
      "| 41| 2417|\n",
      "| 43| 1614|\n",
      "+---+-----+\n",
      "only showing top 20 rows\n",
      "\n"
     ]
    }
   ],
   "source": [
    "df2.show()"
   ]
  },
  {
   "cell_type": "code",
   "execution_count": 23,
   "metadata": {},
   "outputs": [],
   "source": [
    "df1.createOrReplaceTempView(\"friends\")\n",
    "df3 = spark.sql(\"select _c2, sum(_c3) as count from friends group by _c2\")"
   ]
  },
  {
   "cell_type": "code",
   "execution_count": 24,
   "metadata": {},
   "outputs": [
    {
     "name": "stdout",
     "output_type": "stream",
     "text": [
      "+---+-----+\n",
      "|_c2|count|\n",
      "+---+-----+\n",
      "| 31| 2138|\n",
      "| 65| 1491|\n",
      "| 53| 1560|\n",
      "| 34| 1473|\n",
      "| 28| 2091|\n",
      "| 26| 4115|\n",
      "| 27| 1825|\n",
      "| 44| 3386|\n",
      "| 22| 1445|\n",
      "| 47| 2099|\n",
      "| 52| 3747|\n",
      "| 40| 4264|\n",
      "| 20|  825|\n",
      "| 57| 3106|\n",
      "| 54| 3615|\n",
      "| 48| 2814|\n",
      "| 19| 2346|\n",
      "| 64| 3376|\n",
      "| 41| 2417|\n",
      "| 43| 1614|\n",
      "+---+-----+\n",
      "only showing top 20 rows\n",
      "\n"
     ]
    }
   ],
   "source": [
    "df3.show()"
   ]
  },
  {
   "cell_type": "code",
   "execution_count": null,
   "metadata": {},
   "outputs": [],
   "source": []
  }
 ],
 "metadata": {
  "kernelspec": {
   "display_name": "Python 3",
   "language": "python",
   "name": "python3"
  },
  "language_info": {
   "codemirror_mode": {
    "name": "ipython",
    "version": 3
   },
   "file_extension": ".py",
   "mimetype": "text/x-python",
   "name": "python",
   "nbconvert_exporter": "python",
   "pygments_lexer": "ipython3",
   "version": "3.8.3"
  }
 },
 "nbformat": 4,
 "nbformat_minor": 4
}
