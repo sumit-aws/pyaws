{
 "cells": [
  {
   "cell_type": "code",
   "execution_count": 1,
   "metadata": {},
   "outputs": [],
   "source": [
    "from pyspark.sql import SparkSession\n",
    "from pyspark.sql.types import *\n",
    "from pyspark.sql.functions import *"
   ]
  },
  {
   "cell_type": "code",
   "execution_count": 2,
   "metadata": {},
   "outputs": [],
   "source": [
    "spark = SparkSession.builder \\\n",
    ".master(\"local\") \\\n",
    ".appName(\"join_groupby_df2\") \\\n",
    ".getOrCreate()"
   ]
  },
  {
   "cell_type": "code",
   "execution_count": 12,
   "metadata": {},
   "outputs": [
    {
     "name": "stdout",
     "output_type": "stream",
     "text": [
      "+-----------+-------------+-----+----------+----------+\n",
      "|MatchNumber|      Batsman| Team|RunsScored|StrikeRate|\n",
      "+-----------+-------------+-----+----------+----------+\n",
      "|          1| Rohit Sharma|India|       200|     100.2|\n",
      "|          1|  Virat Kohli|India|       100|     98.02|\n",
      "|          1| Steven Smith|  Aus|        77|     79.23|\n",
      "|         35|  Clive Lloyd|   WI|        29|      37.0|\n",
      "|        243| Rohit Sharma|India|        23|     150.0|\n",
      "|        243|Faf du Plesis|   SA|        17|     35.06|\n",
      "+-----------+-------------+-----+----------+----------+\n",
      "\n"
     ]
    }
   ],
   "source": [
    "scoredf = spark.read \\\n",
    ".format(\"csv\") \\\n",
    ".option(\"header\", True) \\\n",
    ".option(\"inferSchema\", True) \\\n",
    ".option(\"path\",\"D:\\BigData\\Week13- Apache Spark - Optimization Part-1\\scorecard.csv\") \\\n",
    ".load()\n",
    "\n",
    "scoredf.show()"
   ]
  },
  {
   "cell_type": "code",
   "execution_count": 13,
   "metadata": {},
   "outputs": [
    {
     "name": "stdout",
     "output_type": "stream",
     "text": [
      "+------------+-----+\n",
      "|     Batsman| Team|\n",
      "+------------+-----+\n",
      "|Rohit_Sharma|India|\n",
      "|Steven_Smith|  Aus|\n",
      "| Virat_Kohli|India|\n",
      "+------------+-----+\n",
      "\n"
     ]
    }
   ],
   "source": [
    "teamdf = spark.read \\\n",
    ".format(\"csv\") \\\n",
    ".option(\"header\", True) \\\n",
    ".option(\"inferSchema\", True) \\\n",
    ".option(\"path\",\"D:\\\\BigData\\\\Week13- Apache Spark - Optimization Part-1\\\\teams.csv\") \\\n",
    ".load()\n",
    "\n",
    "teamdf.show()"
   ]
  },
  {
   "cell_type": "code",
   "execution_count": 23,
   "metadata": {},
   "outputs": [
    {
     "name": "stdout",
     "output_type": "stream",
     "text": [
      "+------------+------+\n",
      "|     Batsman|AvgRun|\n",
      "+------------+------+\n",
      "|Steven Smith|  77.0|\n",
      "|Rohit Sharma| 111.5|\n",
      "| Virat Kohli| 100.0|\n",
      "+------------+------+\n",
      "\n"
     ]
    }
   ],
   "source": [
    "scoredf.join(teamdf, scoredf.Team == teamdf.Team, \"inner\").groupBy(scoredf.Batsman).agg(avg(\"RunsScored\").alias(\"AvgRun\")) \\\n",
    ".select(scoredf.Batsman,\"AvgRun\").show()"
   ]
  },
  {
   "cell_type": "code",
   "execution_count": null,
   "metadata": {},
   "outputs": [],
   "source": []
  }
 ],
 "metadata": {
  "kernelspec": {
   "display_name": "Python 3",
   "language": "python",
   "name": "python3"
  },
  "language_info": {
   "codemirror_mode": {
    "name": "ipython",
    "version": 3
   },
   "file_extension": ".py",
   "mimetype": "text/x-python",
   "name": "python",
   "nbconvert_exporter": "python",
   "pygments_lexer": "ipython3",
   "version": "3.8.3"
  }
 },
 "nbformat": 4,
 "nbformat_minor": 4
}
