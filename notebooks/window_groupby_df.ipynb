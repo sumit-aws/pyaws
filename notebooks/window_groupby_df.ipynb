{
 "cells": [
  {
   "cell_type": "code",
   "execution_count": 1,
   "metadata": {},
   "outputs": [],
   "source": [
    "from pyspark.sql import SparkSession\n",
    "from pyspark.sql.window import Window\n",
    "from pyspark.sql.types import *\n",
    "from pyspark.sql.functions import *"
   ]
  },
  {
   "cell_type": "code",
   "execution_count": 3,
   "metadata": {},
   "outputs": [],
   "source": [
    "spark = SparkSession.builder \\\n",
    ".master(\"local\") \\\n",
    ".appName(\"window_groupby_df\") \\\n",
    ".getOrCreate()"
   ]
  },
  {
   "cell_type": "code",
   "execution_count": 4,
   "metadata": {},
   "outputs": [],
   "source": [
    "simpleData = [(\"James\",\"Sales\",3000),\n",
    "      (\"Michael\",\"Sales\",4600),\n",
    "      (\"Robert\",\"Sales\",4100),\n",
    "      (\"Maria\",\"Finance\",3000),\n",
    "      (\"Raman\",\"Finance\",3000),\n",
    "      (\"Scott\",\"Finance\",3300),\n",
    "      (\"Jen\",\"Finance\",3900),\n",
    "      (\"Jeff\",\"Marketing\",3000),\n",
    "      (\"Kumar\",\"Marketing\",2000)\n",
    "             ]\n",
    "\n",
    "columns = (\"employee_name\",\"department\",\"salary\")\n",
    "\n",
    "df1 = spark.createDataFrame(data=simpleData, schema=columns)"
   ]
  },
  {
   "cell_type": "code",
   "execution_count": 6,
   "metadata": {},
   "outputs": [],
   "source": [
    "mywindow = Window.partitionBy(\"department\").orderBy(col(\"salary\").desc())"
   ]
  },
  {
   "cell_type": "code",
   "execution_count": 8,
   "metadata": {},
   "outputs": [
    {
     "name": "stdout",
     "output_type": "stream",
     "text": [
      "+-------------+----------+------+---+\n",
      "|employee_name|department|salary|row|\n",
      "+-------------+----------+------+---+\n",
      "|      Michael|     Sales|  4600|  1|\n",
      "|          Jen|   Finance|  3900|  1|\n",
      "|         Jeff| Marketing|  3000|  1|\n",
      "+-------------+----------+------+---+\n",
      "\n"
     ]
    }
   ],
   "source": [
    "df1.withColumn(\"row\",row_number().over(mywindow)) \\\n",
    ".where(col(\"row\")==1).drop().show()"
   ]
  },
  {
   "cell_type": "code",
   "execution_count": 13,
   "metadata": {},
   "outputs": [],
   "source": [
    "w3 = Window.partitionBy(\"department\").orderBy(col(\"salary\").desc())\n",
    "w4 = Window.partitionBy(\"department\")"
   ]
  },
  {
   "cell_type": "code",
   "execution_count": 14,
   "metadata": {},
   "outputs": [
    {
     "name": "stdout",
     "output_type": "stream",
     "text": [
      "+----------+------+-----+----+----+\n",
      "|department|   avg|  sum| min| max|\n",
      "+----------+------+-----+----+----+\n",
      "|     Sales|3900.0|11700|3000|4600|\n",
      "|   Finance|3300.0|13200|3000|3900|\n",
      "| Marketing|2500.0| 5000|2000|3000|\n",
      "+----------+------+-----+----+----+\n",
      "\n"
     ]
    }
   ],
   "source": [
    "df1.withColumn(\"row\",row_number().over(w3)) \\\n",
    "      .withColumn(\"avg\", avg(col(\"salary\")).over(w4)) \\\n",
    "      .withColumn(\"sum\", sum(col(\"salary\")).over(w4)) \\\n",
    "      .withColumn(\"min\", min(col(\"salary\")).over(w4)) \\\n",
    "      .withColumn(\"max\", max(col(\"salary\")).over(w4)) \\\n",
    "      .where(col(\"row\")==1).select(\"department\",\"avg\",\"sum\",\"min\",\"max\") \\\n",
    "      .show()"
   ]
  },
  {
   "cell_type": "code",
   "execution_count": null,
   "metadata": {},
   "outputs": [],
   "source": []
  }
 ],
 "metadata": {
  "kernelspec": {
   "display_name": "Python 3",
   "language": "python",
   "name": "python3"
  },
  "language_info": {
   "codemirror_mode": {
    "name": "ipython",
    "version": 3
   },
   "file_extension": ".py",
   "mimetype": "text/x-python",
   "name": "python",
   "nbconvert_exporter": "python",
   "pygments_lexer": "ipython3",
   "version": "3.8.3"
  }
 },
 "nbformat": 4,
 "nbformat_minor": 4
}
