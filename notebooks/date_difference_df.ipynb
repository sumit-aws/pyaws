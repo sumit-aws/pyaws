{
 "cells": [
  {
   "cell_type": "code",
   "execution_count": 2,
   "metadata": {},
   "outputs": [],
   "source": [
    "from pyspark.sql import SparkSession, functions as fn\n",
    "from pyspark.sql.types import *\n",
    "from pyspark.sql.functions import *"
   ]
  },
  {
   "cell_type": "code",
   "execution_count": 3,
   "metadata": {},
   "outputs": [],
   "source": [
    "spark = SparkSession.builder \\\n",
    ".master(\"local\") \\\n",
    ".appName(\"date_difference_df\") \\\n",
    ".getOrCreate()"
   ]
  },
  {
   "cell_type": "code",
   "execution_count": 4,
   "metadata": {},
   "outputs": [],
   "source": [
    "data = [(\"1\",\"2019-07-01\"),(\"2\",\"2019-06-24\"),(\"3\",\"2019-08-24\")]\n",
    "\n",
    "df1 = spark.createDataFrame(data=data,schema=[\"id\",\"date\"])"
   ]
  },
  {
   "cell_type": "code",
   "execution_count": 5,
   "metadata": {},
   "outputs": [
    {
     "name": "stdout",
     "output_type": "stream",
     "text": [
      "+----------+------------+--------+\n",
      "|      date|current_date|datediff|\n",
      "+----------+------------+--------+\n",
      "|2019-07-01|  2021-04-09|     648|\n",
      "|2019-06-24|  2021-04-09|     655|\n",
      "|2019-08-24|  2021-04-09|     594|\n",
      "+----------+------------+--------+\n",
      "\n"
     ]
    }
   ],
   "source": [
    "df1.select(fn.col(\"date\"),fn.current_date().alias(\"current_date\"), \\\n",
    "           fn.datediff(fn.current_date(),fn.col(\"date\")).alias(\"datediff\")).show()"
   ]
  },
  {
   "cell_type": "code",
   "execution_count": 6,
   "metadata": {},
   "outputs": [
    {
     "name": "stdout",
     "output_type": "stream",
     "text": [
      "+---+----------+--------+-----------+----------------+------------------+---------------+\n",
      "| id|      date|datediff| monthsdiff|monthsdiff_round|         yearsdiff|yearsdiff_round|\n",
      "+---+----------+--------+-----------+----------------+------------------+---------------+\n",
      "|  1|2019-07-01|     648|21.25806452|           21.26|1.7715053766666669|           1.77|\n",
      "|  2|2019-06-24|     655|21.51612903|           21.52|1.7930107524999999|           1.79|\n",
      "|  3|2019-08-24|     594|19.51612903|           19.52|1.6263440858333331|           1.63|\n",
      "+---+----------+--------+-----------+----------------+------------------+---------------+\n",
      "\n"
     ]
    }
   ],
   "source": [
    "df1.withColumn(\"datediff\", datediff(current_date(),col(\"date\"))) \\\n",
    ".withColumn(\"monthsdiff\",months_between(current_date(),col(\"date\"))) \\\n",
    ".withColumn(\"monthsdiff_round\",round(months_between(current_date(),col(\"date\")),2)) \\\n",
    ".withColumn(\"yearsdiff\",months_between(current_date(),col(\"date\"))/lit(12)) \\\n",
    ".withColumn(\"yearsdiff_round\", round(months_between(current_date(),col(\"date\"))/lit(12),2)).show()"
   ]
  },
  {
   "cell_type": "code",
   "execution_count": null,
   "metadata": {},
   "outputs": [],
   "source": []
  },
  {
   "cell_type": "code",
   "execution_count": null,
   "metadata": {},
   "outputs": [],
   "source": []
  }
 ],
 "metadata": {
  "kernelspec": {
   "display_name": "Python 3",
   "language": "python",
   "name": "python3"
  },
  "language_info": {
   "codemirror_mode": {
    "name": "ipython",
    "version": 3
   },
   "file_extension": ".py",
   "mimetype": "text/x-python",
   "name": "python",
   "nbconvert_exporter": "python",
   "pygments_lexer": "ipython3",
   "version": "3.8.3"
  }
 },
 "nbformat": 4,
 "nbformat_minor": 4
}
