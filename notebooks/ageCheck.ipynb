{
 "cells": [
  {
   "cell_type": "code",
   "execution_count": 4,
   "metadata": {},
   "outputs": [],
   "source": [
    "from pyspark import SparkConf, SparkContext\n",
    "conf = SparkConf().setMaster(\"local\").setAppName(\"AgeCheck\")\n",
    "sc = SparkContext.getOrCreate(conf=conf)"
   ]
  },
  {
   "cell_type": "code",
   "execution_count": 8,
   "metadata": {},
   "outputs": [
    {
     "data": {
      "text/plain": [
       "[('sumit', 30, 'bangalore', 'Y'),\n",
       " ('kapil', 32, 'hyderabad', 'Y'),\n",
       " ('sathish', 16, 'chennai', 'N'),\n",
       " ('ravi', 39, 'bangalore', 'Y'),\n",
       " ('kavita', 12, 'hyderabad', 'N'),\n",
       " ('kavya', 19, 'mysore', 'Y')]"
      ]
     },
     "execution_count": 8,
     "metadata": {},
     "output_type": "execute_result"
    }
   ],
   "source": [
    "rdd1 = sc.textFile(\"D:\\BigData\\Week9- Apache Spark\\persondetails.dataset1\")\n",
    "rdd2 = rdd1.map(lambda x: (x.split(\",\")[0],int(x.split(\",\")[1]),x.split(\",\")[2],'Y' if int(x.split(\",\")[1]) > 18 else 'N' ))\n",
    "rdd2.collect()"
   ]
  },
  {
   "cell_type": "code",
   "execution_count": null,
   "metadata": {},
   "outputs": [],
   "source": []
  }
 ],
 "metadata": {
  "kernelspec": {
   "display_name": "Python 3",
   "language": "python",
   "name": "python3"
  },
  "language_info": {
   "codemirror_mode": {
    "name": "ipython",
    "version": 3
   },
   "file_extension": ".py",
   "mimetype": "text/x-python",
   "name": "python",
   "nbconvert_exporter": "python",
   "pygments_lexer": "ipython3",
   "version": "3.8.3"
  }
 },
 "nbformat": 4,
 "nbformat_minor": 4
}
