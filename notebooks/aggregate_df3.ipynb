{
 "cells": [
  {
   "cell_type": "code",
   "execution_count": 5,
   "metadata": {},
   "outputs": [],
   "source": [
    "from pyspark.sql import SparkSession, functions as fn\n",
    "from pyspark.sql.types import *\n",
    "from pyspark.sql.functions import avg, sum, min, mean, max, count, expr\n",
    "from pyspark.sql.window import Window"
   ]
  },
  {
   "cell_type": "code",
   "execution_count": 6,
   "metadata": {},
   "outputs": [],
   "source": [
    "spark = SparkSession.builder \\\n",
    ".master(\"local\") \\\n",
    ".appName(\"aggregate_df3\") \\\n",
    ".getOrCreate()"
   ]
  },
  {
   "cell_type": "code",
   "execution_count": 7,
   "metadata": {},
   "outputs": [],
   "source": [
    "df1 = spark.read \\\n",
    ".format(\"csv\") \\\n",
    ".option(\"header\",True) \\\n",
    ".option(\"inferSchema\", True) \\\n",
    ".option(\"path\", \"D:\\\\BigData\\\\Week12- Apache Spark - Structured API Part-2\\\\windowdata.csv\") \\\n",
    ".load()"
   ]
  },
  {
   "cell_type": "code",
   "execution_count": 10,
   "metadata": {},
   "outputs": [],
   "source": [
    "myWindow = Window.partitionBy(\"country\") \\\n",
    ".orderBy(\"weeknum\") \\\n",
    ".rowsBetween(Window.unboundedPreceding, Window.currentRow)"
   ]
  },
  {
   "cell_type": "code",
   "execution_count": 11,
   "metadata": {},
   "outputs": [
    {
     "name": "stdout",
     "output_type": "stream",
     "text": [
      "+-------+-------+-----------+-------------+------------+------------------+\n",
      "|country|weeknum|numinvoices|totalquantity|invoicevalue|      runningTotal|\n",
      "+-------+-------+-----------+-------------+------------+------------------+\n",
      "| Sweden|     50|          3|         3714|      2646.3|            2646.3|\n",
      "|Germany|     48|         11|         1795|     3309.75|           3309.75|\n",
      "|Germany|     49|         12|         1852|     4521.39|           7831.14|\n",
      "|Germany|     50|         15|         1973|     5065.79|          12896.93|\n",
      "|Germany|     51|          5|         1103|     1665.91|          14562.84|\n",
      "| France|     48|          4|         1299|     2808.16|           2808.16|\n",
      "| France|     49|          9|         2303|     4527.01|           7335.17|\n",
      "| France|     50|          6|          529|      537.32|           7872.49|\n",
      "| France|     51|          5|          847|     1702.87|           9575.36|\n",
      "|Belgium|     48|          1|          528|       346.1|             346.1|\n",
      "|Belgium|     50|          2|          285|      625.16|            971.26|\n",
      "|Belgium|     51|          2|          942|      838.65|1809.9099999999999|\n",
      "|Finland|     50|          1|         1254|       892.8|             892.8|\n",
      "|  India|     48|          7|         2822|     3147.23|           3147.23|\n",
      "|  India|     49|          5|         1280|      3284.1|           6431.33|\n",
      "|  India|     50|          5|         1184|     2321.78|           8753.11|\n",
      "|  India|     51|          5|           95|      276.84|           9029.95|\n",
      "|  Italy|     48|          1|          164|       427.8|             427.8|\n",
      "|  Italy|     49|          1|           -2|       -17.0|             410.8|\n",
      "|  Italy|     51|          1|          131|       383.7|             794.5|\n",
      "+-------+-------+-----------+-------------+------------+------------------+\n",
      "only showing top 20 rows\n",
      "\n"
     ]
    }
   ],
   "source": [
    "df2 = df1.withColumn(\"runningTotal\", sum(\"invoicevalue\").over(myWindow))\n",
    "df2.show()"
   ]
  },
  {
   "cell_type": "code",
   "execution_count": 12,
   "metadata": {},
   "outputs": [
    {
     "name": "stdout",
     "output_type": "stream",
     "text": [
      "+-------+-------+-----------+-------------+------------+------------------+\n",
      "|country|weeknum|numinvoices|totalquantity|invoicevalue|      runningTotal|\n",
      "+-------+-------+-----------+-------------+------------+------------------+\n",
      "| Sweden|     50|          3|         3714|      2646.3|            2646.3|\n",
      "|Germany|     48|         11|         1795|     3309.75|           3309.75|\n",
      "|Germany|     49|         12|         1852|     4521.39|           7831.14|\n",
      "|Germany|     50|         15|         1973|     5065.79|          12896.93|\n",
      "|Germany|     51|          5|         1103|     1665.91|          14562.84|\n",
      "| France|     48|          4|         1299|     2808.16|           2808.16|\n",
      "| France|     49|          9|         2303|     4527.01|           7335.17|\n",
      "| France|     50|          6|          529|      537.32|           7872.49|\n",
      "| France|     51|          5|          847|     1702.87|           9575.36|\n",
      "|Belgium|     48|          1|          528|       346.1|             346.1|\n",
      "|Belgium|     50|          2|          285|      625.16|            971.26|\n",
      "|Belgium|     51|          2|          942|      838.65|1809.9099999999999|\n",
      "|Finland|     50|          1|         1254|       892.8|             892.8|\n",
      "|  India|     48|          7|         2822|     3147.23|           3147.23|\n",
      "|  India|     49|          5|         1280|      3284.1|           6431.33|\n",
      "|  India|     50|          5|         1184|     2321.78|           8753.11|\n",
      "|  India|     51|          5|           95|      276.84|           9029.95|\n",
      "|  Italy|     48|          1|          164|       427.8|             427.8|\n",
      "|  Italy|     49|          1|           -2|       -17.0|             410.8|\n",
      "|  Italy|     51|          1|          131|       383.7|             794.5|\n",
      "+-------+-------+-----------+-------------+------------+------------------+\n",
      "only showing top 20 rows\n",
      "\n"
     ]
    }
   ],
   "source": [
    "df1.createOrReplaceTempView(\"windowData\")\n",
    "spark.sql(\"\"\"select country, weeknum, numinvoices, totalquantity, invoicevalue, \n",
    "sum(invoicevalue) over (partition by country order by weeknum\n",
    "ROWS BETWEEN UNBOUNDED PRECEDING AND CURRENT ROW) as runningTotal from windowData\"\"\").show()"
   ]
  },
  {
   "cell_type": "code",
   "execution_count": null,
   "metadata": {},
   "outputs": [],
   "source": []
  }
 ],
 "metadata": {
  "kernelspec": {
   "display_name": "Python 3",
   "language": "python",
   "name": "python3"
  },
  "language_info": {
   "codemirror_mode": {
    "name": "ipython",
    "version": 3
   },
   "file_extension": ".py",
   "mimetype": "text/x-python",
   "name": "python",
   "nbconvert_exporter": "python",
   "pygments_lexer": "ipython3",
   "version": "3.8.3"
  }
 },
 "nbformat": 4,
 "nbformat_minor": 4
}
