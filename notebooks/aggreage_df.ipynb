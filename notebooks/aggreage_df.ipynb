{
 "cells": [
  {
   "cell_type": "code",
   "execution_count": 21,
   "metadata": {},
   "outputs": [],
   "source": [
    "from pyspark.sql import SparkSession, functions as fn\n",
    "from pyspark.sql.types import *\n",
    "from pyspark.sql.functions import avg, sum, min, mean, max, countDistinct, count"
   ]
  },
  {
   "cell_type": "code",
   "execution_count": 22,
   "metadata": {},
   "outputs": [],
   "source": [
    "spark = SparkSession.builder \\\n",
    ".master(\"local\") \\\n",
    ".appName(\"aggreage_df\") \\\n",
    ".getOrCreate()"
   ]
  },
  {
   "cell_type": "code",
   "execution_count": 23,
   "metadata": {},
   "outputs": [],
   "source": [
    "df1 = spark.read \\\n",
    ".format(\"csv\") \\\n",
    ".option(\"header\", True) \\\n",
    ".option(\"inferSchema\", True) \\\n",
    ".option(\"path\", \"D:\\\\BigData\\\\Week12- Apache Spark - Structured API Part-2\\\\order_data.csv\") \\\n",
    ".load()"
   ]
  },
  {
   "cell_type": "code",
   "execution_count": 20,
   "metadata": {},
   "outputs": [
    {
     "name": "stdout",
     "output_type": "stream",
     "text": [
      "+---------+-------------+-----------------+-------------+\n",
      "|row_count|TotalQuantity|     AvgUnitPrice|CountDistinct|\n",
      "+---------+-------------+-----------------+-------------+\n",
      "|   541782|      5175855|4.611565323321927|        25858|\n",
      "+---------+-------------+-----------------+-------------+\n",
      "\n"
     ]
    }
   ],
   "source": [
    "df1.select(count(\"*\").alias(\"row_count\"), \n",
    "           sum(\"Quantity\").alias(\"TotalQuantity\"),\n",
    "           avg(\"UnitPrice\").alias(\"AvgUnitPrice\"),\n",
    "           countDistinct(\"InvoiceNo\").alias(\"CountDistinct\")).show()"
   ]
  },
  {
   "cell_type": "code",
   "execution_count": 26,
   "metadata": {},
   "outputs": [
    {
     "name": "stdout",
     "output_type": "stream",
     "text": [
      "+---------+-------------+-----------------+-------------+\n",
      "|row_count|TotalQuantity|     AvgUnitPrice|CountDistinct|\n",
      "+---------+-------------+-----------------+-------------+\n",
      "|   541782|      5175855|4.611565323321927|        25858|\n",
      "+---------+-------------+-----------------+-------------+\n",
      "\n"
     ]
    }
   ],
   "source": [
    "df1.selectExpr(\"count(*) as row_count\", \n",
    "           \"sum(Quantity) as TotalQuantity\",\n",
    "           \"avg(UnitPrice) as AvgUnitPrice\",\n",
    "           \"count(Distinct(InvoiceNo)) as CountDistinct\").show()"
   ]
  },
  {
   "cell_type": "code",
   "execution_count": 30,
   "metadata": {},
   "outputs": [
    {
     "name": "stdout",
     "output_type": "stream",
     "text": [
      "+---------+-------------+-----------------+-------------+\n",
      "|row_count|TotalQuantity|     AvgUnitPrice|CountDistinct|\n",
      "+---------+-------------+-----------------+-------------+\n",
      "|   541782|      5175855|4.611565323321927|        25858|\n",
      "+---------+-------------+-----------------+-------------+\n",
      "\n"
     ]
    }
   ],
   "source": [
    "df1.createOrReplaceTempView(\"orders\")\n",
    "spark.sql(\"\"\"select count(*) as row_count, sum(Quantity) as TotalQuantity, \n",
    "          avg(UnitPrice) as AvgUnitPrice, count(Distinct(InvoiceNo)) as CountDistinct from orders\"\"\").show()"
   ]
  },
  {
   "cell_type": "code",
   "execution_count": null,
   "metadata": {},
   "outputs": [],
   "source": []
  }
 ],
 "metadata": {
  "kernelspec": {
   "display_name": "Python 3",
   "language": "python",
   "name": "python3"
  },
  "language_info": {
   "codemirror_mode": {
    "name": "ipython",
    "version": 3
   },
   "file_extension": ".py",
   "mimetype": "text/x-python",
   "name": "python",
   "nbconvert_exporter": "python",
   "pygments_lexer": "ipython3",
   "version": "3.8.3"
  }
 },
 "nbformat": 4,
 "nbformat_minor": 4
}
