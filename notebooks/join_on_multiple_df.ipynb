{
 "cells": [
  {
   "cell_type": "code",
   "execution_count": 1,
   "metadata": {},
   "outputs": [],
   "source": [
    "from pyspark.sql import SparkSession\n",
    "from pyspark.sql.types import *\n",
    "from pyspark.sql.functions import *"
   ]
  },
  {
   "cell_type": "code",
   "execution_count": 2,
   "metadata": {},
   "outputs": [],
   "source": [
    "spark = SparkSession.builder \\\n",
    ".master(\"local\") \\\n",
    ".appName(\"join_on_multiple_df\") \\\n",
    ".getOrCreate()"
   ]
  },
  {
   "cell_type": "code",
   "execution_count": 3,
   "metadata": {},
   "outputs": [],
   "source": [
    "emp_data = [(1,\"Smith\",\"10\"),\n",
    "    (2,\"Rose\",\"20\"),\n",
    "    (3,\"Williams\",\"10\"),\n",
    "    (4,\"Jones\",\"10\"),\n",
    "    (5,\"Brown\",\"40\"),\n",
    "    (6,\"Brown\",\"50\")\n",
    "      ]\n",
    "empColumns = (\"emp_id\",\"name\",\"emp_dept_id\")\n",
    "emp = spark.createDataFrame(data=emp_data, schema=empColumns)"
   ]
  },
  {
   "cell_type": "code",
   "execution_count": 4,
   "metadata": {},
   "outputs": [],
   "source": [
    "dept_data = [(\"Finance\",10),\n",
    "    (\"Marketing\",20),\n",
    "    (\"Sales\",30),\n",
    "    (\"IT\",40)\n",
    "            ]\n",
    "deptColumns = (\"dept_name\",\"dept_id\")\n",
    "dept = spark.createDataFrame(data=dept_data, schema=deptColumns)"
   ]
  },
  {
   "cell_type": "code",
   "execution_count": 5,
   "metadata": {},
   "outputs": [],
   "source": [
    "address_data = [(1,\"1523 Main St\",\"SFO\",\"CA\"),\n",
    "    (2,\"3453 Orange St\",\"SFO\",\"NY\"),\n",
    "    (3,\"34 Warner St\",\"Jersey\",\"NJ\"),\n",
    "    (4,\"221 Cavalier St\",\"Newark\",\"DE\"),\n",
    "    (5,\"789 Walnut St\",\"Sandiago\",\"CA\")\n",
    "               ]\n",
    "addColumns = (\"emp_id\",\"addline1\",\"city\",\"state\")\n",
    "address = spark.createDataFrame(data=address_data, schema=addColumns)"
   ]
  },
  {
   "cell_type": "code",
   "execution_count": 6,
   "metadata": {},
   "outputs": [
    {
     "name": "stdout",
     "output_type": "stream",
     "text": [
      "+------+--------+-----------+---------+-------+------+---------------+--------+-----+\n",
      "|emp_id|    name|emp_dept_id|dept_name|dept_id|emp_id|       addline1|    city|state|\n",
      "+------+--------+-----------+---------+-------+------+---------------+--------+-----+\n",
      "|     5|   Brown|         40|       IT|     40|     5|  789 Walnut St|Sandiago|   CA|\n",
      "|     1|   Smith|         10|  Finance|     10|     1|   1523 Main St|     SFO|   CA|\n",
      "|     3|Williams|         10|  Finance|     10|     3|   34 Warner St|  Jersey|   NJ|\n",
      "|     2|    Rose|         20|Marketing|     20|     2| 3453 Orange St|     SFO|   NY|\n",
      "|     4|   Jones|         10|  Finance|     10|     4|221 Cavalier St|  Newark|   DE|\n",
      "+------+--------+-----------+---------+-------+------+---------------+--------+-----+\n",
      "\n"
     ]
    }
   ],
   "source": [
    "emp.join(dept,emp.emp_dept_id == dept.dept_id,\"inner\") \\\n",
    ".join(address, emp.emp_id == address.emp_id,\"inner\").show()"
   ]
  },
  {
   "cell_type": "code",
   "execution_count": null,
   "metadata": {},
   "outputs": [],
   "source": []
  }
 ],
 "metadata": {
  "kernelspec": {
   "display_name": "Python 3",
   "language": "python",
   "name": "python3"
  },
  "language_info": {
   "codemirror_mode": {
    "name": "ipython",
    "version": 3
   },
   "file_extension": ".py",
   "mimetype": "text/x-python",
   "name": "python",
   "nbconvert_exporter": "python",
   "pygments_lexer": "ipython3",
   "version": "3.8.3"
  }
 },
 "nbformat": 4,
 "nbformat_minor": 4
}
