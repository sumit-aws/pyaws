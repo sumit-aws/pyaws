{
 "cells": [
  {
   "cell_type": "code",
   "execution_count": 15,
   "metadata": {},
   "outputs": [],
   "source": [
    "import findspark\n",
    "findspark.init()"
   ]
  },
  {
   "cell_type": "code",
   "execution_count": 16,
   "metadata": {},
   "outputs": [],
   "source": [
    "from pyspark.sql import SparkSession\n",
    "from pyspark.sql.types import *\n",
    "from pyspark.sql.functions import *"
   ]
  },
  {
   "cell_type": "code",
   "execution_count": 17,
   "metadata": {},
   "outputs": [],
   "source": [
    "spark = SparkSession.builder \\\n",
    ".master(\"local\") \\\n",
    ".appName(\"casting_date\") \\\n",
    ".getOrCreate()"
   ]
  },
  {
   "cell_type": "code",
   "execution_count": 37,
   "metadata": {},
   "outputs": [],
   "source": [
    "df1 = spark.read \\\n",
    ".format(\"csv\") \\\n",
    ".option(\"header\", True) \\\n",
    ".option(\"inferSchema\", True) \\\n",
    ".option(\"path\",\"D:\\\\BigData\\\\dataset\\\\dateData.csv\") \\\n",
    ".load()"
   ]
  },
  {
   "cell_type": "code",
   "execution_count": 38,
   "metadata": {},
   "outputs": [
    {
     "name": "stdout",
     "output_type": "stream",
     "text": [
      "+----------+-----------+-------------+--------+\n",
      "|RechargeId|RechageDate|RemainingDays|Validity|\n",
      "+----------+-----------+-------------+--------+\n",
      "|         1|   20200511|            1|  online|\n",
      "|         2|   20200119|          110|  online|\n",
      "|         3|   20200105|           35|  online|\n",
      "|         4|   20191105|          215|  online|\n",
      "+----------+-----------+-------------+--------+\n",
      "\n"
     ]
    }
   ],
   "source": [
    "df1.show()"
   ]
  },
  {
   "cell_type": "code",
   "execution_count": 39,
   "metadata": {},
   "outputs": [],
   "source": [
    "df2 = df1.withColumn(\"data_s\",to_date(col(\"RechageDate\").cast(\"string\"),\"yyyyMMdd\"))"
   ]
  },
  {
   "cell_type": "code",
   "execution_count": 40,
   "metadata": {},
   "outputs": [
    {
     "name": "stdout",
     "output_type": "stream",
     "text": [
      "+----------+-----------+-------------+--------+----------+\n",
      "|RechargeId|RechageDate|RemainingDays|Validity|    data_s|\n",
      "+----------+-----------+-------------+--------+----------+\n",
      "|         1|   20200511|            1|  online|2020-05-11|\n",
      "|         2|   20200119|          110|  online|2020-01-19|\n",
      "|         3|   20200105|           35|  online|2020-01-05|\n",
      "|         4|   20191105|          215|  online|2019-11-05|\n",
      "+----------+-----------+-------------+--------+----------+\n",
      "\n"
     ]
    }
   ],
   "source": [
    "df2.show()"
   ]
  },
  {
   "cell_type": "code",
   "execution_count": 42,
   "metadata": {},
   "outputs": [
    {
     "name": "stdout",
     "output_type": "stream",
     "text": [
      "+----------+-----------+-------------+--------+----------+----------+\n",
      "|RechargeId|RechageDate|RemainingDays|Validity|    data_s|ExpiryDate|\n",
      "+----------+-----------+-------------+--------+----------+----------+\n",
      "|         1|   20200511|            1|  online|2020-05-11|2020-05-12|\n",
      "|         2|   20200119|          110|  online|2020-01-19|2020-05-08|\n",
      "|         3|   20200105|           35|  online|2020-01-05|2020-02-09|\n",
      "|         4|   20191105|          215|  online|2019-11-05|2020-06-07|\n",
      "+----------+-----------+-------------+--------+----------+----------+\n",
      "\n"
     ]
    }
   ],
   "source": [
    "df2.select(\"*\",expr(\"date_add(data_s,RemainingDays)\").alias(\"ExpiryDate\")).show()"
   ]
  },
  {
   "cell_type": "code",
   "execution_count": null,
   "metadata": {},
   "outputs": [],
   "source": []
  }
 ],
 "metadata": {
  "kernelspec": {
   "display_name": "Python 3",
   "language": "python",
   "name": "python3"
  },
  "language_info": {
   "codemirror_mode": {
    "name": "ipython",
    "version": 3
   },
   "file_extension": ".py",
   "mimetype": "text/x-python",
   "name": "python",
   "nbconvert_exporter": "python",
   "pygments_lexer": "ipython3",
   "version": "3.8.3"
  }
 },
 "nbformat": 4,
 "nbformat_minor": 4
}
